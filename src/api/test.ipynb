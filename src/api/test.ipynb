{
 "cells": [
  {
   "cell_type": "code",
   "execution_count": 15,
   "metadata": {},
   "outputs": [
    {
     "name": "stdout",
     "output_type": "stream",
     "text": [
      "Hòa\n"
     ]
    }
   ],
   "source": [
    "# Văn bản ban đầu\n",
    "# text = \"Xin chào! Đây là một ví dụ về chuẩn hóa encoding: cái này là tiếng Việt.\"\n",
    "# text = \"Câu này chứa một ký tự không hợp lệ: 😊\"\n",
    "text = \"Hòa\"\n",
    "# Chuẩn hóa encoding sang Unicode\n",
    "encoded_text = text.encode('utf-8')  # Chuẩn hóa thành UTF-8, một trong các bộ mã phổ biến\n",
    "print(encoded_text.decode('utf-8'))  # Decode để hiển thị văn bản\n"
   ]
  },
  {
   "cell_type": "code",
   "execution_count": null,
   "metadata": {},
   "outputs": [],
   "source": [
    "text1 = "
   ]
  },
  {
   "cell_type": "code",
   "execution_count": 11,
   "metadata": {},
   "outputs": [
    {
     "data": {
      "text/plain": [
       "\"b'\\\\xff'\""
      ]
     },
     "execution_count": 11,
     "metadata": {},
     "output_type": "execute_result"
    }
   ],
   "source": [
    "str(b'\\xff')"
   ]
  },
  {
   "cell_type": "code",
   "execution_count": 13,
   "metadata": {},
   "outputs": [
    {
     "name": "stdout",
     "output_type": "stream",
     "text": [
      "b'\\xff'\n"
     ]
    }
   ],
   "source": [
    "# Chuỗi chứa một byte không hợp lệ trong UTF-8\n",
    "invalid_bytes = b'\\xff'\n",
    "\n",
    "try:\n",
    "    # Decode chuỗi bằng UTF-8\n",
    "    invalid_bytes = str(invalid_bytes)\n",
    "    encoded_text = invalid_bytes.encode('utf-8')\n",
    "    decoded_text = encoded_text.decode('utf-8')\n",
    "    print(decoded_text)\n",
    "except UnicodeDecodeError as e:\n",
    "    print(\"Lỗi decode:\", e)\n"
   ]
  }
 ],
 "metadata": {
  "kernelspec": {
   "display_name": "env-nlp",
   "language": "python",
   "name": "python3"
  },
  "language_info": {
   "codemirror_mode": {
    "name": "ipython",
    "version": 3
   },
   "file_extension": ".py",
   "mimetype": "text/x-python",
   "name": "python",
   "nbconvert_exporter": "python",
   "pygments_lexer": "ipython3",
   "version": "3.9.11"
  }
 },
 "nbformat": 4,
 "nbformat_minor": 2
}
